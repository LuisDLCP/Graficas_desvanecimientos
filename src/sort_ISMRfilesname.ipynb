{
 "cells": [
  {
   "cell_type": "code",
   "execution_count": 7,
   "metadata": {},
   "outputs": [],
   "source": [
    "import glob\n",
    "import os"
   ]
  },
  {
   "cell_type": "code",
   "execution_count": 5,
   "metadata": {},
   "outputs": [],
   "source": [
    "path_src = \"/home/luis/Desktop/Proyects_Files/LISN/GPSs/Tareas/Plot_s4_2D/Input_data/Data_set/\""
   ]
  },
  {
   "cell_type": "code",
   "execution_count": 25,
   "metadata": {
    "collapsed": true
   },
   "outputs": [
    {
     "data": {
      "text/plain": [
       "['/home/luis/Desktop/Proyects_Files/LISN/GPSs/Tareas/Plot_s4_2D/Input_data/Data_set/ljic0210.21_.ismr',\n",
       " '/home/luis/Desktop/Proyects_Files/LISN/GPSs/Tareas/Plot_s4_2D/Input_data/Data_set/ljic0220.21_.ismr',\n",
       " '/home/luis/Desktop/Proyects_Files/LISN/GPSs/Tareas/Plot_s4_2D/Input_data/Data_set/ljic0230.21_.ismr',\n",
       " '/home/luis/Desktop/Proyects_Files/LISN/GPSs/Tareas/Plot_s4_2D/Input_data/Data_set/ljic0240.21_.ismr',\n",
       " '/home/luis/Desktop/Proyects_Files/LISN/GPSs/Tareas/Plot_s4_2D/Input_data/Data_set/ljic0250.21_.ismr',\n",
       " '/home/luis/Desktop/Proyects_Files/LISN/GPSs/Tareas/Plot_s4_2D/Input_data/Data_set/ljic0260.21_.ismr',\n",
       " '/home/luis/Desktop/Proyects_Files/LISN/GPSs/Tareas/Plot_s4_2D/Input_data/Data_set/ljic0280.21_.ismr',\n",
       " '/home/luis/Desktop/Proyects_Files/LISN/GPSs/Tareas/Plot_s4_2D/Input_data/Data_set/ljic0290.21_.ismr',\n",
       " '/home/luis/Desktop/Proyects_Files/LISN/GPSs/Tareas/Plot_s4_2D/Input_data/Data_set/ljic0300.21_.ismr',\n",
       " '/home/luis/Desktop/Proyects_Files/LISN/GPSs/Tareas/Plot_s4_2D/Input_data/Data_set/ljic2700.20_.ismr',\n",
       " '/home/luis/Desktop/Proyects_Files/LISN/GPSs/Tareas/Plot_s4_2D/Input_data/Data_set/ljic2710.20_.ismr',\n",
       " '/home/luis/Desktop/Proyects_Files/LISN/GPSs/Tareas/Plot_s4_2D/Input_data/Data_set/ljic2720.20_.ismr',\n",
       " '/home/luis/Desktop/Proyects_Files/LISN/GPSs/Tareas/Plot_s4_2D/Input_data/Data_set/ljic2800.20_.ismr',\n",
       " '/home/luis/Desktop/Proyects_Files/LISN/GPSs/Tareas/Plot_s4_2D/Input_data/Data_set/ljic2810.20_.ismr',\n",
       " '/home/luis/Desktop/Proyects_Files/LISN/GPSs/Tareas/Plot_s4_2D/Input_data/Data_set/ljic2820.20_.ismr',\n",
       " '/home/luis/Desktop/Proyects_Files/LISN/GPSs/Tareas/Plot_s4_2D/Input_data/Data_set/ljic2830.20_.ismr',\n",
       " '/home/luis/Desktop/Proyects_Files/LISN/GPSs/Tareas/Plot_s4_2D/Input_data/Data_set/ljic2840.20_.ismr',\n",
       " '/home/luis/Desktop/Proyects_Files/LISN/GPSs/Tareas/Plot_s4_2D/Input_data/Data_set/ljic2850.20_.ismr',\n",
       " '/home/luis/Desktop/Proyects_Files/LISN/GPSs/Tareas/Plot_s4_2D/Input_data/Data_set/ljic2860.20_.ismr',\n",
       " '/home/luis/Desktop/Proyects_Files/LISN/GPSs/Tareas/Plot_s4_2D/Input_data/Data_set/ljic2870.20_.ismr',\n",
       " '/home/luis/Desktop/Proyects_Files/LISN/GPSs/Tareas/Plot_s4_2D/Input_data/Data_set/ljic2880.20_.ismr',\n",
       " '/home/luis/Desktop/Proyects_Files/LISN/GPSs/Tareas/Plot_s4_2D/Input_data/Data_set/ljic2890.20_.ismr',\n",
       " '/home/luis/Desktop/Proyects_Files/LISN/GPSs/Tareas/Plot_s4_2D/Input_data/Data_set/ljic3220.20_.ismr',\n",
       " '/home/luis/Desktop/Proyects_Files/LISN/GPSs/Tareas/Plot_s4_2D/Input_data/Data_set/ljic3230.20_.ismr',\n",
       " '/home/luis/Desktop/Proyects_Files/LISN/GPSs/Tareas/Plot_s4_2D/Input_data/Data_set/ljic3240.20_.ismr',\n",
       " '/home/luis/Desktop/Proyects_Files/LISN/GPSs/Tareas/Plot_s4_2D/Input_data/Data_set/ljic3250.20_.ismr',\n",
       " '/home/luis/Desktop/Proyects_Files/LISN/GPSs/Tareas/Plot_s4_2D/Input_data/Data_set/ljic3260.20_.ismr',\n",
       " '/home/luis/Desktop/Proyects_Files/LISN/GPSs/Tareas/Plot_s4_2D/Input_data/Data_set/ljic3270.20_.ismr',\n",
       " '/home/luis/Desktop/Proyects_Files/LISN/GPSs/Tareas/Plot_s4_2D/Input_data/Data_set/ljic3280.20_.ismr',\n",
       " '/home/luis/Desktop/Proyects_Files/LISN/GPSs/Tareas/Plot_s4_2D/Input_data/Data_set/ljic3290.20_.ismr',\n",
       " '/home/luis/Desktop/Proyects_Files/LISN/GPSs/Tareas/Plot_s4_2D/Input_data/Data_set/ljic3300.20_.ismr',\n",
       " '/home/luis/Desktop/Proyects_Files/LISN/GPSs/Tareas/Plot_s4_2D/Input_data/Data_set/ljic3310.20_.ismr',\n",
       " '/home/luis/Desktop/Proyects_Files/LISN/GPSs/Tareas/Plot_s4_2D/Input_data/Data_set/ljic3320.20_.ismr',\n",
       " '/home/luis/Desktop/Proyects_Files/LISN/GPSs/Tareas/Plot_s4_2D/Input_data/Data_set/ljic3330.20_.ismr',\n",
       " '/home/luis/Desktop/Proyects_Files/LISN/GPSs/Tareas/Plot_s4_2D/Input_data/Data_set/ljic3340.20_.ismr',\n",
       " '/home/luis/Desktop/Proyects_Files/LISN/GPSs/Tareas/Plot_s4_2D/Input_data/Data_set/ljic3350.20_.ismr',\n",
       " '/home/luis/Desktop/Proyects_Files/LISN/GPSs/Tareas/Plot_s4_2D/Input_data/Data_set/ljic3360.20_.ismr',\n",
       " '/home/luis/Desktop/Proyects_Files/LISN/GPSs/Tareas/Plot_s4_2D/Input_data/Data_set/ljic3370.20_.ismr',\n",
       " '/home/luis/Desktop/Proyects_Files/LISN/GPSs/Tareas/Plot_s4_2D/Input_data/Data_set/ljic3400.20_.ismr',\n",
       " '/home/luis/Desktop/Proyects_Files/LISN/GPSs/Tareas/Plot_s4_2D/Input_data/Data_set/ljic3410.20_.ismr',\n",
       " '/home/luis/Desktop/Proyects_Files/LISN/GPSs/Tareas/Plot_s4_2D/Input_data/Data_set/ljic3420.20_.ismr',\n",
       " '/home/luis/Desktop/Proyects_Files/LISN/GPSs/Tareas/Plot_s4_2D/Input_data/Data_set/ljic3430.20_.ismr',\n",
       " '/home/luis/Desktop/Proyects_Files/LISN/GPSs/Tareas/Plot_s4_2D/Input_data/Data_set/ljic3440.20_.ismr',\n",
       " '/home/luis/Desktop/Proyects_Files/LISN/GPSs/Tareas/Plot_s4_2D/Input_data/Data_set/ljic3450.20_.ismr',\n",
       " '/home/luis/Desktop/Proyects_Files/LISN/GPSs/Tareas/Plot_s4_2D/Input_data/Data_set/ljic3460.20_.ismr',\n",
       " '/home/luis/Desktop/Proyects_Files/LISN/GPSs/Tareas/Plot_s4_2D/Input_data/Data_set/ljic3470.20_.ismr',\n",
       " '/home/luis/Desktop/Proyects_Files/LISN/GPSs/Tareas/Plot_s4_2D/Input_data/Data_set/ljic3480.20_.ismr',\n",
       " '/home/luis/Desktop/Proyects_Files/LISN/GPSs/Tareas/Plot_s4_2D/Input_data/Data_set/ljic3490.20_.ismr',\n",
       " '/home/luis/Desktop/Proyects_Files/LISN/GPSs/Tareas/Plot_s4_2D/Input_data/Data_set/ljic3500.20_.ismr',\n",
       " '/home/luis/Desktop/Proyects_Files/LISN/GPSs/Tareas/Plot_s4_2D/Input_data/Data_set/ljic3510.20_.ismr']"
      ]
     },
     "execution_count": 25,
     "metadata": {},
     "output_type": "execute_result"
    }
   ],
   "source": [
    "list_files = sorted(glob.glob(path_src + \"*.ismr\")) # sorted by name, \n",
    "list_files"
   ]
  },
  {
   "cell_type": "code",
   "execution_count": 26,
   "metadata": {
    "collapsed": true
   },
   "outputs": [
    {
     "data": {
      "text/plain": [
       "['ljic3430.20_.ismr',\n",
       " 'ljic3300.20_.ismr',\n",
       " 'ljic0210.21_.ismr',\n",
       " 'ljic3270.20_.ismr',\n",
       " 'ljic2840.20_.ismr',\n",
       " 'ljic3360.20_.ismr',\n",
       " 'ljic3260.20_.ismr',\n",
       " 'ljic0280.21_.ismr',\n",
       " 'ljic0300.21_.ismr',\n",
       " 'ljic2810.20_.ismr',\n",
       " 'ljic3280.20_.ismr',\n",
       " 'ljic2890.20_.ismr',\n",
       " 'ljic0250.21_.ismr',\n",
       " 'ljic0240.21_.ismr',\n",
       " 'ljic3310.20_.ismr',\n",
       " 'ljic3450.20_.ismr',\n",
       " 'ljic3510.20_.ismr',\n",
       " 'ljic2800.20_.ismr',\n",
       " 'ljic2860.20_.ismr',\n",
       " 'ljic0230.21_.ismr',\n",
       " 'ljic3410.20_.ismr',\n",
       " 'ljic3460.20_.ismr',\n",
       " 'ljic2850.20_.ismr',\n",
       " 'ljic3340.20_.ismr',\n",
       " 'ljic3420.20_.ismr',\n",
       " 'ljic2700.20_.ismr',\n",
       " 'ljic3220.20_.ismr',\n",
       " 'ljic3240.20_.ismr',\n",
       " 'ljic0290.21_.ismr',\n",
       " 'ljic3370.20_.ismr',\n",
       " 'ljic2830.20_.ismr',\n",
       " 'ljic0220.21_.ismr',\n",
       " 'ljic3500.20_.ismr',\n",
       " 'ljic3440.20_.ismr',\n",
       " 'ljic3480.20_.ismr',\n",
       " 'ljic2710.20_.ismr',\n",
       " 'ljic3330.20_.ismr',\n",
       " 'ljic2870.20_.ismr',\n",
       " 'ljic3230.20_.ismr',\n",
       " 'ljic3320.20_.ismr',\n",
       " 'ljic3250.20_.ismr',\n",
       " 'ljic0260.21_.ismr',\n",
       " 'ljic3290.20_.ismr',\n",
       " 'ljic3350.20_.ismr',\n",
       " 'ljic3400.20_.ismr',\n",
       " 'ljic2820.20_.ismr',\n",
       " 'ljic2720.20_.ismr',\n",
       " 'ljic3490.20_.ismr',\n",
       " 'ljic2880.20_.ismr',\n",
       " 'ljic3470.20_.ismr']"
      ]
     },
     "execution_count": 26,
     "metadata": {},
     "output_type": "execute_result"
    }
   ],
   "source": [
    "file_list = os.listdir(path_src)\n",
    "file_list"
   ]
  },
  {
   "cell_type": "code",
   "execution_count": 27,
   "metadata": {},
   "outputs": [
    {
     "data": {
      "text/plain": [
       "'21'"
      ]
     },
     "execution_count": 27,
     "metadata": {},
     "output_type": "execute_result"
    }
   ],
   "source": [
    "def criterio1(fileName):\n",
    "    return(fileName[-8:-6])\n",
    "criterio(file_list[2])"
   ]
  },
  {
   "cell_type": "code",
   "execution_count": 28,
   "metadata": {
    "collapsed": true
   },
   "outputs": [
    {
     "data": {
      "text/plain": [
       "['ljic3430.20_.ismr',\n",
       " 'ljic3300.20_.ismr',\n",
       " 'ljic3270.20_.ismr',\n",
       " 'ljic2840.20_.ismr',\n",
       " 'ljic3360.20_.ismr',\n",
       " 'ljic3260.20_.ismr',\n",
       " 'ljic2810.20_.ismr',\n",
       " 'ljic3280.20_.ismr',\n",
       " 'ljic2890.20_.ismr',\n",
       " 'ljic3310.20_.ismr',\n",
       " 'ljic3450.20_.ismr',\n",
       " 'ljic3510.20_.ismr',\n",
       " 'ljic2800.20_.ismr',\n",
       " 'ljic2860.20_.ismr',\n",
       " 'ljic3410.20_.ismr',\n",
       " 'ljic3460.20_.ismr',\n",
       " 'ljic2850.20_.ismr',\n",
       " 'ljic3340.20_.ismr',\n",
       " 'ljic3420.20_.ismr',\n",
       " 'ljic2700.20_.ismr',\n",
       " 'ljic3220.20_.ismr',\n",
       " 'ljic3240.20_.ismr',\n",
       " 'ljic3370.20_.ismr',\n",
       " 'ljic2830.20_.ismr',\n",
       " 'ljic3500.20_.ismr',\n",
       " 'ljic3440.20_.ismr',\n",
       " 'ljic3480.20_.ismr',\n",
       " 'ljic2710.20_.ismr',\n",
       " 'ljic3330.20_.ismr',\n",
       " 'ljic2870.20_.ismr',\n",
       " 'ljic3230.20_.ismr',\n",
       " 'ljic3320.20_.ismr',\n",
       " 'ljic3250.20_.ismr',\n",
       " 'ljic3290.20_.ismr',\n",
       " 'ljic3350.20_.ismr',\n",
       " 'ljic3400.20_.ismr',\n",
       " 'ljic2820.20_.ismr',\n",
       " 'ljic2720.20_.ismr',\n",
       " 'ljic3490.20_.ismr',\n",
       " 'ljic2880.20_.ismr',\n",
       " 'ljic3470.20_.ismr',\n",
       " 'ljic0210.21_.ismr',\n",
       " 'ljic0280.21_.ismr',\n",
       " 'ljic0300.21_.ismr',\n",
       " 'ljic0250.21_.ismr',\n",
       " 'ljic0240.21_.ismr',\n",
       " 'ljic0230.21_.ismr',\n",
       " 'ljic0290.21_.ismr',\n",
       " 'ljic0220.21_.ismr',\n",
       " 'ljic0260.21_.ismr']"
      ]
     },
     "execution_count": 28,
     "metadata": {},
     "output_type": "execute_result"
    }
   ],
   "source": [
    "file_list2 = sorted(file_list, key=criterio1)\n",
    "file_list2"
   ]
  },
  {
   "cell_type": "code",
   "execution_count": 37,
   "metadata": {},
   "outputs": [
    {
     "data": {
      "text/plain": [
       "'ljic3270'"
      ]
     },
     "execution_count": 37,
     "metadata": {},
     "output_type": "execute_result"
    }
   ],
   "source": [
    "def criterio2(fileName):\n",
    "    return(fileName[-17:-9])\n",
    "criterio2(file_list[3])"
   ]
  },
  {
   "cell_type": "code",
   "execution_count": 30,
   "metadata": {
    "collapsed": true
   },
   "outputs": [
    {
     "data": {
      "text/plain": [
       "['ljic0210.21_.ismr',\n",
       " 'ljic0220.21_.ismr',\n",
       " 'ljic0230.21_.ismr',\n",
       " 'ljic0240.21_.ismr',\n",
       " 'ljic0250.21_.ismr',\n",
       " 'ljic0260.21_.ismr',\n",
       " 'ljic0280.21_.ismr',\n",
       " 'ljic0290.21_.ismr',\n",
       " 'ljic0300.21_.ismr',\n",
       " 'ljic2700.20_.ismr',\n",
       " 'ljic2710.20_.ismr',\n",
       " 'ljic2720.20_.ismr',\n",
       " 'ljic2800.20_.ismr',\n",
       " 'ljic2810.20_.ismr',\n",
       " 'ljic2820.20_.ismr',\n",
       " 'ljic2830.20_.ismr',\n",
       " 'ljic2840.20_.ismr',\n",
       " 'ljic2850.20_.ismr',\n",
       " 'ljic2860.20_.ismr',\n",
       " 'ljic2870.20_.ismr',\n",
       " 'ljic2880.20_.ismr',\n",
       " 'ljic2890.20_.ismr',\n",
       " 'ljic3220.20_.ismr',\n",
       " 'ljic3230.20_.ismr',\n",
       " 'ljic3240.20_.ismr',\n",
       " 'ljic3250.20_.ismr',\n",
       " 'ljic3260.20_.ismr',\n",
       " 'ljic3270.20_.ismr',\n",
       " 'ljic3280.20_.ismr',\n",
       " 'ljic3290.20_.ismr',\n",
       " 'ljic3300.20_.ismr',\n",
       " 'ljic3310.20_.ismr',\n",
       " 'ljic3320.20_.ismr',\n",
       " 'ljic3330.20_.ismr',\n",
       " 'ljic3340.20_.ismr',\n",
       " 'ljic3350.20_.ismr',\n",
       " 'ljic3360.20_.ismr',\n",
       " 'ljic3370.20_.ismr',\n",
       " 'ljic3400.20_.ismr',\n",
       " 'ljic3410.20_.ismr',\n",
       " 'ljic3420.20_.ismr',\n",
       " 'ljic3430.20_.ismr',\n",
       " 'ljic3440.20_.ismr',\n",
       " 'ljic3450.20_.ismr',\n",
       " 'ljic3460.20_.ismr',\n",
       " 'ljic3470.20_.ismr',\n",
       " 'ljic3480.20_.ismr',\n",
       " 'ljic3490.20_.ismr',\n",
       " 'ljic3500.20_.ismr',\n",
       " 'ljic3510.20_.ismr']"
      ]
     },
     "execution_count": 30,
     "metadata": {},
     "output_type": "execute_result"
    }
   ],
   "source": [
    "file_list3 = sorted(file_list2, key=criterio2)\n",
    "file_list3"
   ]
  },
  {
   "cell_type": "code",
   "execution_count": 39,
   "metadata": {},
   "outputs": [
    {
     "data": {
      "text/plain": [
       "['/home/luis/Desktop/Proyects_Files/LISN/GPSs/Tareas/Plot_s4_2D/Input_data/Data_set/ljic2700.20_.ismr',\n",
       " '/home/luis/Desktop/Proyects_Files/LISN/GPSs/Tareas/Plot_s4_2D/Input_data/Data_set/ljic2710.20_.ismr',\n",
       " '/home/luis/Desktop/Proyects_Files/LISN/GPSs/Tareas/Plot_s4_2D/Input_data/Data_set/ljic2720.20_.ismr',\n",
       " '/home/luis/Desktop/Proyects_Files/LISN/GPSs/Tareas/Plot_s4_2D/Input_data/Data_set/ljic2800.20_.ismr',\n",
       " '/home/luis/Desktop/Proyects_Files/LISN/GPSs/Tareas/Plot_s4_2D/Input_data/Data_set/ljic2810.20_.ismr',\n",
       " '/home/luis/Desktop/Proyects_Files/LISN/GPSs/Tareas/Plot_s4_2D/Input_data/Data_set/ljic2820.20_.ismr',\n",
       " '/home/luis/Desktop/Proyects_Files/LISN/GPSs/Tareas/Plot_s4_2D/Input_data/Data_set/ljic2830.20_.ismr',\n",
       " '/home/luis/Desktop/Proyects_Files/LISN/GPSs/Tareas/Plot_s4_2D/Input_data/Data_set/ljic2840.20_.ismr',\n",
       " '/home/luis/Desktop/Proyects_Files/LISN/GPSs/Tareas/Plot_s4_2D/Input_data/Data_set/ljic2850.20_.ismr',\n",
       " '/home/luis/Desktop/Proyects_Files/LISN/GPSs/Tareas/Plot_s4_2D/Input_data/Data_set/ljic2860.20_.ismr',\n",
       " '/home/luis/Desktop/Proyects_Files/LISN/GPSs/Tareas/Plot_s4_2D/Input_data/Data_set/ljic2870.20_.ismr',\n",
       " '/home/luis/Desktop/Proyects_Files/LISN/GPSs/Tareas/Plot_s4_2D/Input_data/Data_set/ljic2880.20_.ismr',\n",
       " '/home/luis/Desktop/Proyects_Files/LISN/GPSs/Tareas/Plot_s4_2D/Input_data/Data_set/ljic2890.20_.ismr',\n",
       " '/home/luis/Desktop/Proyects_Files/LISN/GPSs/Tareas/Plot_s4_2D/Input_data/Data_set/ljic3220.20_.ismr',\n",
       " '/home/luis/Desktop/Proyects_Files/LISN/GPSs/Tareas/Plot_s4_2D/Input_data/Data_set/ljic3230.20_.ismr',\n",
       " '/home/luis/Desktop/Proyects_Files/LISN/GPSs/Tareas/Plot_s4_2D/Input_data/Data_set/ljic3240.20_.ismr',\n",
       " '/home/luis/Desktop/Proyects_Files/LISN/GPSs/Tareas/Plot_s4_2D/Input_data/Data_set/ljic3250.20_.ismr',\n",
       " '/home/luis/Desktop/Proyects_Files/LISN/GPSs/Tareas/Plot_s4_2D/Input_data/Data_set/ljic3260.20_.ismr',\n",
       " '/home/luis/Desktop/Proyects_Files/LISN/GPSs/Tareas/Plot_s4_2D/Input_data/Data_set/ljic3270.20_.ismr',\n",
       " '/home/luis/Desktop/Proyects_Files/LISN/GPSs/Tareas/Plot_s4_2D/Input_data/Data_set/ljic3280.20_.ismr',\n",
       " '/home/luis/Desktop/Proyects_Files/LISN/GPSs/Tareas/Plot_s4_2D/Input_data/Data_set/ljic3290.20_.ismr',\n",
       " '/home/luis/Desktop/Proyects_Files/LISN/GPSs/Tareas/Plot_s4_2D/Input_data/Data_set/ljic3300.20_.ismr',\n",
       " '/home/luis/Desktop/Proyects_Files/LISN/GPSs/Tareas/Plot_s4_2D/Input_data/Data_set/ljic3310.20_.ismr',\n",
       " '/home/luis/Desktop/Proyects_Files/LISN/GPSs/Tareas/Plot_s4_2D/Input_data/Data_set/ljic3320.20_.ismr',\n",
       " '/home/luis/Desktop/Proyects_Files/LISN/GPSs/Tareas/Plot_s4_2D/Input_data/Data_set/ljic3330.20_.ismr',\n",
       " '/home/luis/Desktop/Proyects_Files/LISN/GPSs/Tareas/Plot_s4_2D/Input_data/Data_set/ljic3340.20_.ismr',\n",
       " '/home/luis/Desktop/Proyects_Files/LISN/GPSs/Tareas/Plot_s4_2D/Input_data/Data_set/ljic3350.20_.ismr',\n",
       " '/home/luis/Desktop/Proyects_Files/LISN/GPSs/Tareas/Plot_s4_2D/Input_data/Data_set/ljic3360.20_.ismr',\n",
       " '/home/luis/Desktop/Proyects_Files/LISN/GPSs/Tareas/Plot_s4_2D/Input_data/Data_set/ljic3370.20_.ismr',\n",
       " '/home/luis/Desktop/Proyects_Files/LISN/GPSs/Tareas/Plot_s4_2D/Input_data/Data_set/ljic3400.20_.ismr',\n",
       " '/home/luis/Desktop/Proyects_Files/LISN/GPSs/Tareas/Plot_s4_2D/Input_data/Data_set/ljic3410.20_.ismr',\n",
       " '/home/luis/Desktop/Proyects_Files/LISN/GPSs/Tareas/Plot_s4_2D/Input_data/Data_set/ljic3420.20_.ismr',\n",
       " '/home/luis/Desktop/Proyects_Files/LISN/GPSs/Tareas/Plot_s4_2D/Input_data/Data_set/ljic3430.20_.ismr',\n",
       " '/home/luis/Desktop/Proyects_Files/LISN/GPSs/Tareas/Plot_s4_2D/Input_data/Data_set/ljic3440.20_.ismr',\n",
       " '/home/luis/Desktop/Proyects_Files/LISN/GPSs/Tareas/Plot_s4_2D/Input_data/Data_set/ljic3450.20_.ismr',\n",
       " '/home/luis/Desktop/Proyects_Files/LISN/GPSs/Tareas/Plot_s4_2D/Input_data/Data_set/ljic3460.20_.ismr',\n",
       " '/home/luis/Desktop/Proyects_Files/LISN/GPSs/Tareas/Plot_s4_2D/Input_data/Data_set/ljic3470.20_.ismr',\n",
       " '/home/luis/Desktop/Proyects_Files/LISN/GPSs/Tareas/Plot_s4_2D/Input_data/Data_set/ljic3480.20_.ismr',\n",
       " '/home/luis/Desktop/Proyects_Files/LISN/GPSs/Tareas/Plot_s4_2D/Input_data/Data_set/ljic3490.20_.ismr',\n",
       " '/home/luis/Desktop/Proyects_Files/LISN/GPSs/Tareas/Plot_s4_2D/Input_data/Data_set/ljic3500.20_.ismr',\n",
       " '/home/luis/Desktop/Proyects_Files/LISN/GPSs/Tareas/Plot_s4_2D/Input_data/Data_set/ljic3510.20_.ismr',\n",
       " '/home/luis/Desktop/Proyects_Files/LISN/GPSs/Tareas/Plot_s4_2D/Input_data/Data_set/ljic0210.21_.ismr',\n",
       " '/home/luis/Desktop/Proyects_Files/LISN/GPSs/Tareas/Plot_s4_2D/Input_data/Data_set/ljic0220.21_.ismr',\n",
       " '/home/luis/Desktop/Proyects_Files/LISN/GPSs/Tareas/Plot_s4_2D/Input_data/Data_set/ljic0230.21_.ismr',\n",
       " '/home/luis/Desktop/Proyects_Files/LISN/GPSs/Tareas/Plot_s4_2D/Input_data/Data_set/ljic0240.21_.ismr',\n",
       " '/home/luis/Desktop/Proyects_Files/LISN/GPSs/Tareas/Plot_s4_2D/Input_data/Data_set/ljic0250.21_.ismr',\n",
       " '/home/luis/Desktop/Proyects_Files/LISN/GPSs/Tareas/Plot_s4_2D/Input_data/Data_set/ljic0260.21_.ismr',\n",
       " '/home/luis/Desktop/Proyects_Files/LISN/GPSs/Tareas/Plot_s4_2D/Input_data/Data_set/ljic0280.21_.ismr',\n",
       " '/home/luis/Desktop/Proyects_Files/LISN/GPSs/Tareas/Plot_s4_2D/Input_data/Data_set/ljic0290.21_.ismr',\n",
       " '/home/luis/Desktop/Proyects_Files/LISN/GPSs/Tareas/Plot_s4_2D/Input_data/Data_set/ljic0300.21_.ismr']"
      ]
     },
     "execution_count": 39,
     "metadata": {},
     "output_type": "execute_result"
    }
   ],
   "source": [
    "sorted(list_files, key=lambda x: (x[-8:-6], x[-17:-9])) # sort by year first, then by doy "
   ]
  },
  {
   "cell_type": "code",
   "execution_count": null,
   "metadata": {},
   "outputs": [],
   "source": []
  }
 ],
 "metadata": {
  "kernelspec": {
   "display_name": "Python 3",
   "language": "python",
   "name": "python3"
  },
  "language_info": {
   "codemirror_mode": {
    "name": "ipython",
    "version": 3
   },
   "file_extension": ".py",
   "mimetype": "text/x-python",
   "name": "python",
   "nbconvert_exporter": "python",
   "pygments_lexer": "ipython3",
   "version": "3.7.7"
  }
 },
 "nbformat": 4,
 "nbformat_minor": 2
}
