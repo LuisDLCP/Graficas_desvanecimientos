{
 "cells": [
  {
   "cell_type": "code",
   "execution_count": 1,
   "metadata": {},
   "outputs": [],
   "source": [
    "import septentrio_tools as st\n",
    "import pandas as pd\n",
    "import numpy as np\n",
    "import datetime\n",
    "import matplotlib.dates as mdates\n",
    "import matplotlib.pyplot as plt\n",
    "from mpl_toolkits.axes_grid1 import make_axes_locatable"
   ]
  },
  {
   "cell_type": "code",
   "execution_count": 2,
   "metadata": {},
   "outputs": [],
   "source": [
    "inputFile1 = \"ljic2800.20_.ismr\"\n",
    "inputFile2 = \"ljic2810.20_.ismr\""
   ]
  },
  {
   "cell_type": "code",
   "execution_count": 3,
   "metadata": {},
   "outputs": [],
   "source": [
    "def process_df(input_file):\n",
    "    h = st.ProcessISMR()\n",
    "    # Read and normalize \n",
    "    h.read_file(input_file)\n",
    "    h.normalize_df()\n",
    "    # Rename the Elev column\n",
    "    columnas = [\"Elev\", \"S4_sig1\", \"S4_sig1_corr\", \"S4_sig2\", \"S4_sig2_corr\", \"S4_sig3\", \"S4_sig3_corr\"]\n",
    "    h.rename_column(5, columnas[0])\n",
    "    # Rename the s4 columns\n",
    "    h.rename_column(7, columnas[1])\n",
    "    h.rename_column(8, columnas[2])\n",
    "    h.rename_column(32, columnas[3])\n",
    "    h.rename_column(33, columnas[4])\n",
    "    h.rename_column(46, columnas[5])\n",
    "    h.rename_column(47, columnas[6])\n",
    "    # Extract certain columns \n",
    "    h.extract_columns(cols=columnas)\n",
    "    # Convert to float \n",
    "    h.convert2float(cols=columnas)\n",
    "    # Assign the df \n",
    "    df2 = h.df\n",
    "    # Calculate the corrected S4\n",
    "    def get_correctedS4(row):\n",
    "        s4 = row[0]\n",
    "        correction= row[1]\n",
    "\n",
    "        # Treat nan numbers \n",
    "        if pd.isnull(s4) or pd.isnull(correction):\n",
    "            return np.nan\n",
    "        else:\n",
    "            # Calculate the corrected S4\n",
    "            x = s4**2-correction**2\n",
    "            if x>0:\n",
    "                return x**0.5\n",
    "            else:\n",
    "                return 0    \n",
    "\n",
    "    for i in range(3):        \n",
    "        # calculate\n",
    "        df2[f\"S4_sig{i+1}\"] = df2[[f\"S4_sig{i+1}\",f\"S4_sig{i+1}_corr\"]].apply(get_correctedS4, axis=1)\n",
    "        # delete\n",
    "        del df2[f\"S4_sig{i+1}_corr\"]\n",
    "        \n",
    "    return df2  "
   ]
  },
  {
   "cell_type": "code",
   "execution_count": 4,
   "metadata": {},
   "outputs": [
    {
     "data": {
      "text/html": [
       "<div>\n",
       "<style scoped>\n",
       "    .dataframe tbody tr th:only-of-type {\n",
       "        vertical-align: middle;\n",
       "    }\n",
       "\n",
       "    .dataframe tbody tr th {\n",
       "        vertical-align: top;\n",
       "    }\n",
       "\n",
       "    .dataframe thead th {\n",
       "        text-align: right;\n",
       "    }\n",
       "</style>\n",
       "<table border=\"1\" class=\"dataframe\">\n",
       "  <thead>\n",
       "    <tr style=\"text-align: right;\">\n",
       "      <th></th>\n",
       "      <th>PRN</th>\n",
       "      <th>Elev</th>\n",
       "      <th>S4_sig1</th>\n",
       "      <th>S4_sig2</th>\n",
       "      <th>S4_sig3</th>\n",
       "    </tr>\n",
       "    <tr>\n",
       "      <th>DateTime</th>\n",
       "      <th></th>\n",
       "      <th></th>\n",
       "      <th></th>\n",
       "      <th></th>\n",
       "      <th></th>\n",
       "    </tr>\n",
       "  </thead>\n",
       "  <tbody>\n",
       "    <tr>\n",
       "      <th>2020-10-06 00:01:00</th>\n",
       "      <td>G10</td>\n",
       "      <td>58.0</td>\n",
       "      <td>0.043875</td>\n",
       "      <td>0.042036</td>\n",
       "      <td>0.0</td>\n",
       "    </tr>\n",
       "    <tr>\n",
       "      <th>2020-10-06 00:01:00</th>\n",
       "      <td>G11</td>\n",
       "      <td>8.0</td>\n",
       "      <td>0.189539</td>\n",
       "      <td>NaN</td>\n",
       "      <td>NaN</td>\n",
       "    </tr>\n",
       "    <tr>\n",
       "      <th>2020-10-06 00:01:00</th>\n",
       "      <td>G16</td>\n",
       "      <td>67.0</td>\n",
       "      <td>0.043232</td>\n",
       "      <td>NaN</td>\n",
       "      <td>NaN</td>\n",
       "    </tr>\n",
       "    <tr>\n",
       "      <th>2020-10-06 00:01:00</th>\n",
       "      <td>G20</td>\n",
       "      <td>23.0</td>\n",
       "      <td>0.096291</td>\n",
       "      <td>NaN</td>\n",
       "      <td>NaN</td>\n",
       "    </tr>\n",
       "    <tr>\n",
       "      <th>2020-10-06 00:01:00</th>\n",
       "      <td>G21</td>\n",
       "      <td>31.0</td>\n",
       "      <td>0.056134</td>\n",
       "      <td>NaN</td>\n",
       "      <td>NaN</td>\n",
       "    </tr>\n",
       "  </tbody>\n",
       "</table>\n",
       "</div>"
      ],
      "text/plain": [
       "                     PRN  Elev   S4_sig1   S4_sig2  S4_sig3\n",
       "DateTime                                                   \n",
       "2020-10-06 00:01:00  G10  58.0  0.043875  0.042036      0.0\n",
       "2020-10-06 00:01:00  G11   8.0  0.189539       NaN      NaN\n",
       "2020-10-06 00:01:00  G16  67.0  0.043232       NaN      NaN\n",
       "2020-10-06 00:01:00  G20  23.0  0.096291       NaN      NaN\n",
       "2020-10-06 00:01:00  G21  31.0  0.056134       NaN      NaN"
      ]
     },
     "execution_count": 4,
     "metadata": {},
     "output_type": "execute_result"
    }
   ],
   "source": [
    "df1 = process_df(inputFile1)\n",
    "df1.head()"
   ]
  },
  {
   "cell_type": "code",
   "execution_count": 5,
   "metadata": {},
   "outputs": [
    {
     "data": {
      "text/html": [
       "<div>\n",
       "<style scoped>\n",
       "    .dataframe tbody tr th:only-of-type {\n",
       "        vertical-align: middle;\n",
       "    }\n",
       "\n",
       "    .dataframe tbody tr th {\n",
       "        vertical-align: top;\n",
       "    }\n",
       "\n",
       "    .dataframe thead th {\n",
       "        text-align: right;\n",
       "    }\n",
       "</style>\n",
       "<table border=\"1\" class=\"dataframe\">\n",
       "  <thead>\n",
       "    <tr style=\"text-align: right;\">\n",
       "      <th></th>\n",
       "      <th>PRN</th>\n",
       "      <th>Elev</th>\n",
       "      <th>S4_sig1</th>\n",
       "      <th>S4_sig2</th>\n",
       "      <th>S4_sig3</th>\n",
       "    </tr>\n",
       "    <tr>\n",
       "      <th>DateTime</th>\n",
       "      <th></th>\n",
       "      <th></th>\n",
       "      <th></th>\n",
       "      <th></th>\n",
       "      <th></th>\n",
       "    </tr>\n",
       "  </thead>\n",
       "  <tbody>\n",
       "    <tr>\n",
       "      <th>2020-10-08</th>\n",
       "      <td>C22</td>\n",
       "      <td>31.0</td>\n",
       "      <td>0.181229</td>\n",
       "      <td>NaN</td>\n",
       "      <td>0.000000</td>\n",
       "    </tr>\n",
       "    <tr>\n",
       "      <th>2020-10-08</th>\n",
       "      <td>C24</td>\n",
       "      <td>35.0</td>\n",
       "      <td>0.284199</td>\n",
       "      <td>NaN</td>\n",
       "      <td>0.013115</td>\n",
       "    </tr>\n",
       "    <tr>\n",
       "      <th>2020-10-08</th>\n",
       "      <td>C25</td>\n",
       "      <td>15.0</td>\n",
       "      <td>0.252054</td>\n",
       "      <td>NaN</td>\n",
       "      <td>0.059599</td>\n",
       "    </tr>\n",
       "    <tr>\n",
       "      <th>2020-10-08</th>\n",
       "      <td>C26</td>\n",
       "      <td>19.0</td>\n",
       "      <td>0.159900</td>\n",
       "      <td>NaN</td>\n",
       "      <td>0.039749</td>\n",
       "    </tr>\n",
       "    <tr>\n",
       "      <th>2020-10-08</th>\n",
       "      <td>C34</td>\n",
       "      <td>26.0</td>\n",
       "      <td>0.220624</td>\n",
       "      <td>NaN</td>\n",
       "      <td>0.000000</td>\n",
       "    </tr>\n",
       "  </tbody>\n",
       "</table>\n",
       "</div>"
      ],
      "text/plain": [
       "            PRN  Elev   S4_sig1  S4_sig2   S4_sig3\n",
       "DateTime                                          \n",
       "2020-10-08  C22  31.0  0.181229      NaN  0.000000\n",
       "2020-10-08  C24  35.0  0.284199      NaN  0.013115\n",
       "2020-10-08  C25  15.0  0.252054      NaN  0.059599\n",
       "2020-10-08  C26  19.0  0.159900      NaN  0.039749\n",
       "2020-10-08  C34  26.0  0.220624      NaN  0.000000"
      ]
     },
     "execution_count": 5,
     "metadata": {},
     "output_type": "execute_result"
    }
   ],
   "source": [
    "df2 = process_df(inputFile2)\n",
    "df2.tail()"
   ]
  },
  {
   "cell_type": "code",
   "execution_count": 6,
   "metadata": {},
   "outputs": [
    {
     "data": {
      "text/html": [
       "<div>\n",
       "<style scoped>\n",
       "    .dataframe tbody tr th:only-of-type {\n",
       "        vertical-align: middle;\n",
       "    }\n",
       "\n",
       "    .dataframe tbody tr th {\n",
       "        vertical-align: top;\n",
       "    }\n",
       "\n",
       "    .dataframe thead th {\n",
       "        text-align: right;\n",
       "    }\n",
       "</style>\n",
       "<table border=\"1\" class=\"dataframe\">\n",
       "  <thead>\n",
       "    <tr style=\"text-align: right;\">\n",
       "      <th></th>\n",
       "      <th>PRN</th>\n",
       "      <th>Elev</th>\n",
       "      <th>S4_sig1</th>\n",
       "      <th>S4_sig2</th>\n",
       "      <th>S4_sig3</th>\n",
       "    </tr>\n",
       "    <tr>\n",
       "      <th>DateTime</th>\n",
       "      <th></th>\n",
       "      <th></th>\n",
       "      <th></th>\n",
       "      <th></th>\n",
       "      <th></th>\n",
       "    </tr>\n",
       "  </thead>\n",
       "  <tbody>\n",
       "    <tr>\n",
       "      <th>2020-10-06 00:01:00</th>\n",
       "      <td>G10</td>\n",
       "      <td>58.0</td>\n",
       "      <td>0.043875</td>\n",
       "      <td>0.042036</td>\n",
       "      <td>0.0</td>\n",
       "    </tr>\n",
       "    <tr>\n",
       "      <th>2020-10-06 00:01:00</th>\n",
       "      <td>G11</td>\n",
       "      <td>8.0</td>\n",
       "      <td>0.189539</td>\n",
       "      <td>NaN</td>\n",
       "      <td>NaN</td>\n",
       "    </tr>\n",
       "    <tr>\n",
       "      <th>2020-10-06 00:01:00</th>\n",
       "      <td>G16</td>\n",
       "      <td>67.0</td>\n",
       "      <td>0.043232</td>\n",
       "      <td>NaN</td>\n",
       "      <td>NaN</td>\n",
       "    </tr>\n",
       "    <tr>\n",
       "      <th>2020-10-06 00:01:00</th>\n",
       "      <td>G20</td>\n",
       "      <td>23.0</td>\n",
       "      <td>0.096291</td>\n",
       "      <td>NaN</td>\n",
       "      <td>NaN</td>\n",
       "    </tr>\n",
       "    <tr>\n",
       "      <th>2020-10-06 00:01:00</th>\n",
       "      <td>G21</td>\n",
       "      <td>31.0</td>\n",
       "      <td>0.056134</td>\n",
       "      <td>NaN</td>\n",
       "      <td>NaN</td>\n",
       "    </tr>\n",
       "  </tbody>\n",
       "</table>\n",
       "</div>"
      ],
      "text/plain": [
       "                     PRN  Elev   S4_sig1   S4_sig2  S4_sig3\n",
       "DateTime                                                   \n",
       "2020-10-06 00:01:00  G10  58.0  0.043875  0.042036      0.0\n",
       "2020-10-06 00:01:00  G11   8.0  0.189539       NaN      NaN\n",
       "2020-10-06 00:01:00  G16  67.0  0.043232       NaN      NaN\n",
       "2020-10-06 00:01:00  G20  23.0  0.096291       NaN      NaN\n",
       "2020-10-06 00:01:00  G21  31.0  0.056134       NaN      NaN"
      ]
     },
     "execution_count": 6,
     "metadata": {},
     "output_type": "execute_result"
    }
   ],
   "source": [
    "# Merge 2 dfs\n",
    "df3 = df1.append(other=df2)\n",
    "df3.head()"
   ]
  },
  {
   "cell_type": "code",
   "execution_count": null,
   "metadata": {},
   "outputs": [],
   "source": []
  },
  {
   "cell_type": "markdown",
   "metadata": {},
   "source": [
    "## Plot for an unique PRN"
   ]
  },
  {
   "cell_type": "markdown",
   "metadata": {},
   "source": [
    "### 1. Extract values for a unique PRN / const / freq "
   ]
  },
  {
   "cell_type": "code",
   "execution_count": null,
   "metadata": {},
   "outputs": [],
   "source": [
    "m = st.PlotsISMR(dataframe=df3, ismr_file_name=inputFile1)"
   ]
  },
  {
   "cell_type": "code",
   "execution_count": null,
   "metadata": {},
   "outputs": [],
   "source": [
    "m.extract_prns(const='G', freq='S4_sig1')"
   ]
  },
  {
   "cell_type": "code",
   "execution_count": null,
   "metadata": {},
   "outputs": [],
   "source": [
    "prn1 = 'G2'"
   ]
  },
  {
   "cell_type": "code",
   "execution_count": null,
   "metadata": {},
   "outputs": [],
   "source": [
    "s1 = m.get_variable(prn=prn1, var='S4_sig1')\n",
    "print(s1.head())\n",
    "s1.tail()"
   ]
  },
  {
   "cell_type": "code",
   "execution_count": null,
   "metadata": {},
   "outputs": [],
   "source": [
    "s1.describe()"
   ]
  },
  {
   "cell_type": "code",
   "execution_count": null,
   "metadata": {},
   "outputs": [],
   "source": [
    "s1.to_csv(\"series1\")"
   ]
  },
  {
   "cell_type": "markdown",
   "metadata": {},
   "source": [
    "### 2. Reassigning s4 values based on time values"
   ]
  },
  {
   "cell_type": "code",
   "execution_count": null,
   "metadata": {},
   "outputs": [],
   "source": [
    "# Complete extreme values for index variable (datetime)\n",
    "# -> Lower value of range\n",
    "val1 = s1.index[0]\n",
    "val1_comp = datetime.datetime(val1.year, val1.month, val1.day, 0, 0)\n",
    "if val1 != val1_comp:\n",
    "    s_aux1 = pd.concat([pd.Series([np.nan]), s1])\n",
    "    s_aux1 = s_aux1.rename({0:val1_comp})\n",
    "\n",
    "# -> Upper value of range\n",
    "val2 = s1.index[-1]\n",
    "val2_comp = datetime.datetime(val2.year, val2.month, val2.day, 23, 59) + datetime.timedelta(minutes=1)\n",
    "if val2 != val2_comp:\n",
    "    s_aux2 = pd.concat([s_aux1, pd.Series([np.nan])])\n",
    "    s_aux2 = s_aux2.rename({0:val2_comp})\n",
    "\n",
    "print(s_aux2.head())\n",
    "s_aux2.tail()"
   ]
  },
  {
   "cell_type": "code",
   "execution_count": null,
   "metadata": {},
   "outputs": [],
   "source": [
    "# Resampling \n",
    "s2 = s_aux2.resample(\"T\").asfreq() # Each minute \n",
    "s2.to_csv(\"series2\")\n",
    "print(s2.head())\n",
    "print(s2.tail())"
   ]
  },
  {
   "cell_type": "markdown",
   "metadata": {},
   "source": [
    "### 3. Create the s4 2D array"
   ]
  },
  {
   "cell_type": "code",
   "execution_count": null,
   "metadata": {},
   "outputs": [],
   "source": [
    "fechas = np.unique(s2.index.date)\n",
    "\n",
    "j=0\n",
    "for fecha in fechas:\n",
    "    ind = fecha.strftime(\"%Y-%m-%d\")\n",
    "    serie = s2.loc[ind]\n",
    "    values = serie.values\n",
    "    if len(values) > 1:\n",
    "        if j==0: \n",
    "            s4_array = [values]  \n",
    "        else:\n",
    "            s4_array = np.append(s4_array, [values], axis=0)\n",
    "    j += 1\n",
    "\n",
    "s4_array = s4_array.T\n",
    "print(s4_array)\n",
    "s4_array.shape"
   ]
  },
  {
   "cell_type": "markdown",
   "metadata": {},
   "source": [
    "### 4. Define x and y range values"
   ]
  },
  {
   "cell_type": "code",
   "execution_count": null,
   "metadata": {},
   "outputs": [],
   "source": [
    "# Define x range values \n",
    "x_lims=[fechas[0], fechas[-1]]\n",
    "x_lims"
   ]
  },
  {
   "cell_type": "code",
   "execution_count": null,
   "metadata": {},
   "outputs": [],
   "source": [
    "# Define y range values \n",
    "yo = datetime.datetime(fechas[0].year, fechas[0].month, fechas[0].day, 0, 0)\n",
    "y_lims= [yo, yo + datetime.timedelta(days=1)]\n",
    "y_lims"
   ]
  },
  {
   "cell_type": "markdown",
   "metadata": {},
   "source": [
    "### 5. Change x,y datetime to numeric values"
   ]
  },
  {
   "cell_type": "code",
   "execution_count": null,
   "metadata": {},
   "outputs": [],
   "source": [
    "x_lims = mdates.date2num(x_lims)\n",
    "x_lims"
   ]
  },
  {
   "cell_type": "code",
   "execution_count": null,
   "metadata": {},
   "outputs": [],
   "source": [
    "y_lims = mdates.date2num(y_lims)\n",
    "y_lims"
   ]
  },
  {
   "cell_type": "markdown",
   "metadata": {},
   "source": [
    "### 6. Plot s4 values"
   ]
  },
  {
   "cell_type": "code",
   "execution_count": null,
   "metadata": {},
   "outputs": [],
   "source": [
    "fig, ax = plt.subplots()\n",
    "\n",
    "cmap = \"plasma\"\n",
    "im = ax.imshow(s4_array, cmap=cmap, extent=[x_lims[0], x_lims[1],  y_lims[0], y_lims[1]], aspect = 'auto', vmin=0, vmax=1)\n",
    "ax.set(xlabel=\"Days\", ylabel=\"Hours\", title=\"S4\")\n",
    "#ax.grid()\n",
    "ax.xaxis_date()\n",
    "ax.yaxis_date()\n",
    "\n",
    "date_format1 = mdates.DateFormatter('%d/%m')\n",
    "ax.xaxis.set_major_formatter(date_format1)\n",
    "\n",
    "date_format2 = mdates.DateFormatter('%H:%M')\n",
    "ax.yaxis.set_major_formatter(date_format2)\n",
    "fig.autofmt_xdate()\n",
    "\n",
    "# Legend \n",
    "divider = make_axes_locatable(ax)\n",
    "cax = divider.append_axes(\"right\", size=\"5%\", pad=0.1) # pad es el espaciado con la grafica principal\n",
    "plt.colorbar(im,cax=cax,label='S4 index',extend='both')\n",
    "    \n",
    "plt.show()"
   ]
  },
  {
   "cell_type": "code",
   "execution_count": null,
   "metadata": {},
   "outputs": [],
   "source": []
  },
  {
   "cell_type": "code",
   "execution_count": null,
   "metadata": {},
   "outputs": [],
   "source": []
  },
  {
   "cell_type": "code",
   "execution_count": null,
   "metadata": {},
   "outputs": [],
   "source": []
  }
 ],
 "metadata": {
  "kernelspec": {
   "display_name": "Python 3",
   "language": "python",
   "name": "python3"
  },
  "language_info": {
   "codemirror_mode": {
    "name": "ipython",
    "version": 3
   },
   "file_extension": ".py",
   "mimetype": "text/x-python",
   "name": "python",
   "nbconvert_exporter": "python",
   "pygments_lexer": "ipython3",
   "version": "3.7.7"
  }
 },
 "nbformat": 4,
 "nbformat_minor": 2
}
