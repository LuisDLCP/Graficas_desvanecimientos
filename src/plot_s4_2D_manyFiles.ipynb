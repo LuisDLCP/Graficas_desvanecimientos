{
 "cells": [
  {
   "cell_type": "markdown",
   "metadata": {},
   "source": [
    "# What's about?\n",
    "### This script gets 2D plots with domain \"day vs time\" by using s4 values from many days for a single PRN "
   ]
  },
  {
   "cell_type": "code",
   "execution_count": 1,
   "metadata": {},
   "outputs": [],
   "source": [
    "import septentrio_tools as st\n",
    "import pandas as pd\n",
    "import numpy as np\n",
    "import datetime\n",
    "import time \n",
    "import matplotlib.dates as mdates\n",
    "import matplotlib.pyplot as plt\n",
    "from mpl_toolkits.axes_grid1 import make_axes_locatable\n",
    "import glob "
   ]
  },
  {
   "cell_type": "code",
   "execution_count": 2,
   "metadata": {},
   "outputs": [],
   "source": [
    "start = time.time()"
   ]
  },
  {
   "cell_type": "code",
   "execution_count": 3,
   "metadata": {},
   "outputs": [],
   "source": [
    "def process_df(input_file):\n",
    "    h = st.ProcessISMR()\n",
    "    # Read and normalize \n",
    "    h.read_file(input_file)\n",
    "    h.normalize_df()\n",
    "    # Rename the Elev column\n",
    "    columnas = [\"Elev\", \"S4_sig1\", \"S4_sig1_corr\", \"S4_sig2\", \"S4_sig2_corr\", \"S4_sig3\", \"S4_sig3_corr\"]\n",
    "    h.rename_column(5, columnas[0])\n",
    "    # Rename the s4 columns\n",
    "    h.rename_column(7, columnas[1])\n",
    "    h.rename_column(8, columnas[2])\n",
    "    h.rename_column(32, columnas[3])\n",
    "    h.rename_column(33, columnas[4])\n",
    "    h.rename_column(46, columnas[5])\n",
    "    h.rename_column(47, columnas[6])\n",
    "    # Extract certain columns \n",
    "    h.extract_columns(cols=columnas)\n",
    "    # Convert to float \n",
    "    h.convert2float(cols=columnas)\n",
    "    # Assign the df \n",
    "    df2 = h.df\n",
    "    # Calculate the corrected S4\n",
    "    def get_correctedS4(row):\n",
    "        s4 = row[0]\n",
    "        correction= row[1]\n",
    "\n",
    "        # Treat nan numbers \n",
    "        if pd.isnull(s4) or pd.isnull(correction):\n",
    "            return np.nan\n",
    "        else:\n",
    "            # Calculate the corrected S4\n",
    "            x = s4**2-correction**2\n",
    "            if x>0:\n",
    "                return x**0.5\n",
    "            else:\n",
    "                return 0    \n",
    "\n",
    "    for i in range(3):        \n",
    "        # calculate\n",
    "        df2[f\"S4_sig{i+1}\"] = df2[[f\"S4_sig{i+1}\",f\"S4_sig{i+1}_corr\"]].apply(get_correctedS4, axis=1)\n",
    "        # delete\n",
    "        del df2[f\"S4_sig{i+1}_corr\"]\n",
    "        \n",
    "    return df2  "
   ]
  },
  {
   "cell_type": "code",
   "execution_count": 4,
   "metadata": {},
   "outputs": [],
   "source": [
    "path_src = \"/home/luis/Desktop/Proyects_Files/LISN/GPSs/Tareas/Plot_s4_2D/Input_data/Data_set2/\""
   ]
  },
  {
   "cell_type": "code",
   "execution_count": 5,
   "metadata": {},
   "outputs": [
    {
     "data": {
      "text/html": [
       "<div>\n",
       "<style scoped>\n",
       "    .dataframe tbody tr th:only-of-type {\n",
       "        vertical-align: middle;\n",
       "    }\n",
       "\n",
       "    .dataframe tbody tr th {\n",
       "        vertical-align: top;\n",
       "    }\n",
       "\n",
       "    .dataframe thead th {\n",
       "        text-align: right;\n",
       "    }\n",
       "</style>\n",
       "<table border=\"1\" class=\"dataframe\">\n",
       "  <thead>\n",
       "    <tr style=\"text-align: right;\">\n",
       "      <th></th>\n",
       "      <th>PRN</th>\n",
       "      <th>Elev</th>\n",
       "      <th>S4_sig1</th>\n",
       "      <th>S4_sig2</th>\n",
       "      <th>S4_sig3</th>\n",
       "    </tr>\n",
       "    <tr>\n",
       "      <th>DateTime</th>\n",
       "      <th></th>\n",
       "      <th></th>\n",
       "      <th></th>\n",
       "      <th></th>\n",
       "      <th></th>\n",
       "    </tr>\n",
       "  </thead>\n",
       "  <tbody>\n",
       "    <tr>\n",
       "      <th>2020-09-26 00:01:00</th>\n",
       "      <td>G10</td>\n",
       "      <td>72.0</td>\n",
       "      <td>0.000000</td>\n",
       "      <td>0.021633</td>\n",
       "      <td>0.0</td>\n",
       "    </tr>\n",
       "    <tr>\n",
       "      <th>2020-09-26 00:01:00</th>\n",
       "      <td>G16</td>\n",
       "      <td>49.0</td>\n",
       "      <td>0.064062</td>\n",
       "      <td>NaN</td>\n",
       "      <td>NaN</td>\n",
       "    </tr>\n",
       "    <tr>\n",
       "      <th>2020-09-26 00:01:00</th>\n",
       "      <td>G20</td>\n",
       "      <td>40.0</td>\n",
       "      <td>0.098590</td>\n",
       "      <td>NaN</td>\n",
       "      <td>NaN</td>\n",
       "    </tr>\n",
       "    <tr>\n",
       "      <th>2020-09-26 00:01:00</th>\n",
       "      <td>G21</td>\n",
       "      <td>33.0</td>\n",
       "      <td>0.083720</td>\n",
       "      <td>NaN</td>\n",
       "      <td>NaN</td>\n",
       "    </tr>\n",
       "    <tr>\n",
       "      <th>2020-09-26 00:01:00</th>\n",
       "      <td>G26</td>\n",
       "      <td>83.0</td>\n",
       "      <td>0.000000</td>\n",
       "      <td>0.000000</td>\n",
       "      <td>0.0</td>\n",
       "    </tr>\n",
       "  </tbody>\n",
       "</table>\n",
       "</div>"
      ],
      "text/plain": [
       "                     PRN  Elev   S4_sig1   S4_sig2  S4_sig3\n",
       "DateTime                                                   \n",
       "2020-09-26 00:01:00  G10  72.0  0.000000  0.021633      0.0\n",
       "2020-09-26 00:01:00  G16  49.0  0.064062       NaN      NaN\n",
       "2020-09-26 00:01:00  G20  40.0  0.098590       NaN      NaN\n",
       "2020-09-26 00:01:00  G21  33.0  0.083720       NaN      NaN\n",
       "2020-09-26 00:01:00  G26  83.0  0.000000  0.000000      0.0"
      ]
     },
     "execution_count": 5,
     "metadata": {},
     "output_type": "execute_result"
    }
   ],
   "source": [
    "list_files = glob.glob(path_src + \"*.ismr\")\n",
    "list_files = sorted(list_files, key=lambda x: (x[-8:-6], x[-17:-9])) # sort by year first, then by doy  \n",
    "j = 0\n",
    "if len(list_files) > 0:\n",
    "    for file in list_files:\n",
    "        df1 = process_df(file)\n",
    "        if j == 0:\n",
    "            df2 = df1\n",
    "        else:\n",
    "            # Merge dfs\n",
    "            df2 = df2.append(other=df1)\n",
    "        j += 1       \n",
    "df3 = df2\n",
    "df3.head()"
   ]
  },
  {
   "cell_type": "markdown",
   "metadata": {},
   "source": [
    "## Plot for an unique PRN"
   ]
  },
  {
   "cell_type": "markdown",
   "metadata": {},
   "source": [
    "### 1. Extract values for a unique PRN / const / freq "
   ]
  },
  {
   "cell_type": "code",
   "execution_count": 6,
   "metadata": {},
   "outputs": [],
   "source": [
    "m = st.PlotsISMR(dataframe=df3, ismr_file_name=\"ljic2800.20_.ismr\")"
   ]
  },
  {
   "cell_type": "code",
   "execution_count": 7,
   "metadata": {
    "collapsed": true
   },
   "outputs": [
    {
     "data": {
      "text/plain": [
       "['G1',\n",
       " 'G2',\n",
       " 'G3',\n",
       " 'G4',\n",
       " 'G5',\n",
       " 'G6',\n",
       " 'G7',\n",
       " 'G8',\n",
       " 'G9',\n",
       " 'G10',\n",
       " 'G11',\n",
       " 'G12',\n",
       " 'G13',\n",
       " 'G15',\n",
       " 'G16',\n",
       " 'G17',\n",
       " 'G18',\n",
       " 'G19',\n",
       " 'G20',\n",
       " 'G21',\n",
       " 'G22',\n",
       " 'G24',\n",
       " 'G25',\n",
       " 'G26',\n",
       " 'G27',\n",
       " 'G28',\n",
       " 'G29',\n",
       " 'G30',\n",
       " 'G31',\n",
       " 'G32']"
      ]
     },
     "execution_count": 7,
     "metadata": {},
     "output_type": "execute_result"
    }
   ],
   "source": [
    "m.extract_prns(const='G', freq='S4_sig1')"
   ]
  },
  {
   "cell_type": "code",
   "execution_count": 8,
   "metadata": {},
   "outputs": [],
   "source": [
    "prn1 = 'G2'"
   ]
  },
  {
   "cell_type": "code",
   "execution_count": 9,
   "metadata": {},
   "outputs": [
    {
     "name": "stdout",
     "output_type": "stream",
     "text": [
      "DateTime\n",
      "2020-09-26 09:03:00    0.075472\n",
      "2020-09-26 09:04:00    0.253614\n",
      "2020-09-26 09:05:00    0.094805\n",
      "2020-09-26 09:06:00    0.067171\n",
      "2020-09-26 09:07:00    0.201333\n",
      "Name: S4_sig1, dtype: float64\n"
     ]
    },
    {
     "data": {
      "text/plain": [
       "DateTime\n",
       "2020-09-27 19:13:00    0.071386\n",
       "2020-09-27 19:14:00    0.227982\n",
       "2020-09-27 19:15:00    0.385123\n",
       "2020-09-27 19:16:00    0.455543\n",
       "2020-09-27 19:17:00    0.382304\n",
       "Name: S4_sig1, dtype: float64"
      ]
     },
     "execution_count": 9,
     "metadata": {},
     "output_type": "execute_result"
    }
   ],
   "source": [
    "s1 = m.get_variable(prn=prn1, var='S4_sig1')\n",
    "print(s1.head())\n",
    "s1.tail()"
   ]
  },
  {
   "cell_type": "code",
   "execution_count": 10,
   "metadata": {},
   "outputs": [
    {
     "data": {
      "text/plain": [
       "count    1148.000000\n",
       "mean        0.068561\n",
       "std         0.051331\n",
       "min         0.000000\n",
       "25%         0.037590\n",
       "50%         0.060609\n",
       "75%         0.087156\n",
       "max         0.455543\n",
       "Name: S4_sig1, dtype: float64"
      ]
     },
     "execution_count": 10,
     "metadata": {},
     "output_type": "execute_result"
    }
   ],
   "source": [
    "s1.describe()"
   ]
  },
  {
   "cell_type": "code",
   "execution_count": 11,
   "metadata": {},
   "outputs": [],
   "source": [
    "s1.to_csv(\"series1\")"
   ]
  },
  {
   "cell_type": "markdown",
   "metadata": {},
   "source": [
    "### 2. Reassigning s4 values based on time values"
   ]
  },
  {
   "cell_type": "code",
   "execution_count": 12,
   "metadata": {},
   "outputs": [
    {
     "name": "stdout",
     "output_type": "stream",
     "text": [
      "2020-09-26 00:00:00         NaN\n",
      "2020-09-26 09:03:00    0.075472\n",
      "2020-09-26 09:04:00    0.253614\n",
      "2020-09-26 09:05:00    0.094805\n",
      "2020-09-26 09:06:00    0.067171\n",
      "dtype: float64\n"
     ]
    },
    {
     "data": {
      "text/plain": [
       "2020-09-27 19:14:00    0.227982\n",
       "2020-09-27 19:15:00    0.385123\n",
       "2020-09-27 19:16:00    0.455543\n",
       "2020-09-27 19:17:00    0.382304\n",
       "2020-09-28 00:00:00         NaN\n",
       "dtype: float64"
      ]
     },
     "execution_count": 12,
     "metadata": {},
     "output_type": "execute_result"
    }
   ],
   "source": [
    "# Complete extreme values for index variable (datetime)\n",
    "# -> Lower value of range\n",
    "val1 = s1.index[0]\n",
    "val1_comp = datetime.datetime(val1.year, val1.month, val1.day, 0, 0)\n",
    "if val1 != val1_comp:\n",
    "    s_aux1 = pd.concat([pd.Series([np.nan]), s1])\n",
    "    s_aux1 = s_aux1.rename({0:val1_comp})\n",
    "\n",
    "# -> Upper value of range\n",
    "val2 = s1.index[-1]\n",
    "val2_comp = datetime.datetime(val2.year, val2.month, val2.day, 23, 59) + datetime.timedelta(minutes=1)\n",
    "if val2 != val2_comp:\n",
    "    s_aux2 = pd.concat([s_aux1, pd.Series([np.nan])])\n",
    "    s_aux2 = s_aux2.rename({0:val2_comp})\n",
    "\n",
    "print(s_aux2.head())\n",
    "s_aux2.tail()"
   ]
  },
  {
   "cell_type": "code",
   "execution_count": 13,
   "metadata": {},
   "outputs": [
    {
     "name": "stdout",
     "output_type": "stream",
     "text": [
      "2020-09-26 00:00:00   NaN\n",
      "2020-09-26 00:01:00   NaN\n",
      "2020-09-26 00:02:00   NaN\n",
      "2020-09-26 00:03:00   NaN\n",
      "2020-09-26 00:04:00   NaN\n",
      "Freq: T, dtype: float64\n",
      "2020-09-27 23:56:00   NaN\n",
      "2020-09-27 23:57:00   NaN\n",
      "2020-09-27 23:58:00   NaN\n",
      "2020-09-27 23:59:00   NaN\n",
      "2020-09-28 00:00:00   NaN\n",
      "Freq: T, dtype: float64\n"
     ]
    }
   ],
   "source": [
    "# Resampling \n",
    "s2 = s_aux2.resample(\"T\").asfreq() # Each minute \n",
    "s2.to_csv(\"series2\")\n",
    "print(s2.head())\n",
    "print(s2.tail())"
   ]
  },
  {
   "cell_type": "markdown",
   "metadata": {},
   "source": [
    "### 3. Create the s4 2D array"
   ]
  },
  {
   "cell_type": "code",
   "execution_count": 22,
   "metadata": {},
   "outputs": [
    {
     "data": {
      "text/plain": [
       "array([datetime.date(2020, 9, 26), datetime.date(2020, 9, 27),\n",
       "       datetime.date(2020, 9, 28)], dtype=object)"
      ]
     },
     "execution_count": 22,
     "metadata": {},
     "output_type": "execute_result"
    }
   ],
   "source": [
    "fechas = np.unique(s2.index.date)\n",
    "fechas"
   ]
  },
  {
   "cell_type": "code",
   "execution_count": 14,
   "metadata": {},
   "outputs": [
    {
     "name": "stdout",
     "output_type": "stream",
     "text": [
      "[[nan nan]\n",
      " [nan nan]\n",
      " [nan nan]\n",
      " ...\n",
      " [nan nan]\n",
      " [nan nan]\n",
      " [nan nan]]\n"
     ]
    },
    {
     "data": {
      "text/plain": [
       "(1440, 2)"
      ]
     },
     "execution_count": 14,
     "metadata": {},
     "output_type": "execute_result"
    }
   ],
   "source": [
    "fechas = np.unique(s2.index.date)\n",
    "\n",
    "j=0\n",
    "for fecha in fechas:\n",
    "    ind = fecha.strftime(\"%Y-%m-%d\")\n",
    "    serie = s2.loc[ind]\n",
    "    values = serie.values\n",
    "    if len(values) > 1:\n",
    "        if j==0: \n",
    "            s4_array = [values]  \n",
    "        else:\n",
    "            s4_array = np.append(s4_array, [values], axis=0)\n",
    "    j += 1\n",
    "\n",
    "s4_array = s4_array.T\n",
    "print(s4_array)\n",
    "s4_array.shape"
   ]
  },
  {
   "cell_type": "markdown",
   "metadata": {},
   "source": [
    "### 4. Define x and y range values"
   ]
  },
  {
   "cell_type": "code",
   "execution_count": 15,
   "metadata": {},
   "outputs": [
    {
     "data": {
      "text/plain": [
       "[datetime.date(2020, 9, 26), datetime.date(2020, 9, 28)]"
      ]
     },
     "execution_count": 15,
     "metadata": {},
     "output_type": "execute_result"
    }
   ],
   "source": [
    "# Define x range values \n",
    "x_lims=[fechas[0], fechas[-1]]\n",
    "x_lims"
   ]
  },
  {
   "cell_type": "code",
   "execution_count": 16,
   "metadata": {},
   "outputs": [
    {
     "data": {
      "text/plain": [
       "[datetime.datetime(2020, 9, 26, 0, 0), datetime.datetime(2020, 9, 27, 0, 0)]"
      ]
     },
     "execution_count": 16,
     "metadata": {},
     "output_type": "execute_result"
    }
   ],
   "source": [
    "# Define y range values \n",
    "yo = datetime.datetime(fechas[0].year, fechas[0].month, fechas[0].day, 0, 0)\n",
    "y_lims= [yo, yo + datetime.timedelta(days=1)]\n",
    "y_lims"
   ]
  },
  {
   "cell_type": "markdown",
   "metadata": {},
   "source": [
    "### 5. Change x,y datetime to numeric values"
   ]
  },
  {
   "cell_type": "code",
   "execution_count": 17,
   "metadata": {},
   "outputs": [
    {
     "data": {
      "text/plain": [
       "array([737694., 737696.])"
      ]
     },
     "execution_count": 17,
     "metadata": {},
     "output_type": "execute_result"
    }
   ],
   "source": [
    "x_lims = mdates.date2num(x_lims)\n",
    "x_lims"
   ]
  },
  {
   "cell_type": "code",
   "execution_count": 18,
   "metadata": {},
   "outputs": [
    {
     "data": {
      "text/plain": [
       "array([737694., 737695.])"
      ]
     },
     "execution_count": 18,
     "metadata": {},
     "output_type": "execute_result"
    }
   ],
   "source": [
    "y_lims = mdates.date2num(y_lims)\n",
    "y_lims"
   ]
  },
  {
   "cell_type": "markdown",
   "metadata": {},
   "source": [
    "### 6. Plot s4 values"
   ]
  },
  {
   "cell_type": "code",
   "execution_count": 19,
   "metadata": {},
   "outputs": [
    {
     "data": {
      "image/png": "[encoded data removed]",
      "text/plain": [
       "<Figure size 432x288 with 2 Axes>"
      ]
     },
     "metadata": {
      "needs_background": "light"
     },
     "output_type": "display_data"
    }
   ],
   "source": [
    "fig, ax = plt.subplots()\n",
    "\n",
    "# Strip morning/night\n",
    "fecha_morning_first = yo + pd.DateOffset(hours=11) \n",
    "fecha_morning_first = fecha_morning_first.to_pydatetime()\n",
    "fecha_morning_last = yo + pd.DateOffset(hours=23)\n",
    "fecha_morning_last = fecha_morning_last.to_pydatetime()\n",
    "#ax.set_facecolor(color=\"lightgrey\")\n",
    "#ax.axhspan(fecha_morning_first, fecha_morning_last, color=\"white\") # strip morning/night\n",
    "\n",
    "# Plot\n",
    "cmap = \"plasma\"\n",
    "im = ax.imshow(s4_array, cmap=cmap, extent=[x_lims[0], x_lims[1],  y_lims[0], y_lims[1]], aspect = 'auto', vmin=0, vmax=0.5)\n",
    "ax.set(xlabel=\"Day\", ylabel=\"Hour (UTC)\", title=\"S4\")\n",
    "#ax.grid()\n",
    "ax.xaxis_date()\n",
    "ax.yaxis_date()\n",
    "\n",
    "#ax.xaxis.set_minor_locator(mdates.DayLocator(interval=1)) # Every day \n",
    "ax.xaxis.set_major_locator(mdates.DayLocator(1)) # First day every month \n",
    "ax.xaxis.set_major_formatter(mdates.DateFormatter('%b'))#('%b'))\n",
    "\n",
    "date_format2 = mdates.DateFormatter('%H')\n",
    "ax.yaxis.set_major_formatter(date_format2)\n",
    "#fig.autofmt_xdate()\n",
    "\n",
    "ax.set_facecolor(color=\"lightgrey\")\n",
    "ax.axhspan(fecha_morning_first, fecha_morning_last, color=\"white\", zorder=0) # strip morning/night, and send to back \n",
    "\n",
    "# Grid\n",
    "ax.grid(which='major', axis='both', ls=':', linewidth=1.2)\n",
    "#ax.grid(which='minor', axis='both', ls=':', alpha=0.5)\n",
    "\n",
    "# Legend \n",
    "divider = make_axes_locatable(ax)\n",
    "cax = divider.append_axes(\"right\", size=\"5%\", pad=0.1) # pad es el espaciado con la grafica principal\n",
    "plt.colorbar(im,cax=cax,label='S4 index',extend='both')\n",
    "    \n",
    "plt.show()"
   ]
  },
  {
   "cell_type": "code",
   "execution_count": 20,
   "metadata": {},
   "outputs": [
    {
     "name": "stdout",
     "output_type": "stream",
     "text": [
      "Executing time: 20.523109436035156s\n"
     ]
    }
   ],
   "source": [
    "end = time.time()\n",
    "print(f\"Executing time: {end - start}s\")"
   ]
  },
  {
   "cell_type": "code",
   "execution_count": 21,
   "metadata": {},
   "outputs": [
    {
     "data": {
      "text/plain": [
       "7.283333333333333"
      ]
     },
     "execution_count": 21,
     "metadata": {},
     "output_type": "execute_result"
    }
   ],
   "source": [
    "437/60"
   ]
  },
  {
   "cell_type": "code",
   "execution_count": null,
   "metadata": {},
   "outputs": [],
   "source": []
  },
  {
   "cell_type": "code",
   "execution_count": null,
   "metadata": {},
   "outputs": [],
   "source": []
  },
  {
   "cell_type": "code",
   "execution_count": null,
   "metadata": {},
   "outputs": [],
   "source": []
  },
  {
   "cell_type": "code",
   "execution_count": null,
   "metadata": {},
   "outputs": [],
   "source": []
  }
 ],
 "metadata": {
  "kernelspec": {
   "display_name": "Python 3",
   "language": "python",
   "name": "python3"
  },
  "language_info": {
   "codemirror_mode": {
    "name": "ipython",
    "version": 3
   },
   "file_extension": ".py",
   "mimetype": "text/x-python",
   "name": "python",
   "nbconvert_exporter": "python",
   "pygments_lexer": "ipython3",
   "version": "3.7.7"
  }
 },
 "nbformat": 4,
 "nbformat_minor": 2
}
